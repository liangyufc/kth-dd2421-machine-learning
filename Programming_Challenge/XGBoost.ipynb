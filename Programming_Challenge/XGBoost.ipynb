{
 "cells": [
  {
   "cell_type": "markdown",
   "metadata": {},
   "source": [
    "Reference\\\n",
    "https://www.datacamp.com/community/tutorials/xgboost-in-python"
   ]
  },
  {
   "cell_type": "code",
   "execution_count": null,
   "metadata": {
    "scrolled": false
   },
   "outputs": [],
   "source": [
    "from sklearn.datasets import load_boston\n",
    "boston = load_boston()\n",
    "print(boston.data.shape)\n",
    "print(boston.keys())\n",
    "print(boston.feature_names)\n",
    "print(boston.DESCR)"
   ]
  },
  {
   "cell_type": "code",
   "execution_count": null,
   "metadata": {},
   "outputs": [],
   "source": [
    "data = pd.DataFrame(boston.data)\n",
    "data.columns = boston.feature_names\n",
    "data['PRICE'] = boston.target\n",
    "data.head()"
   ]
  },
  {
   "cell_type": "code",
   "execution_count": null,
   "metadata": {},
   "outputs": [],
   "source": [
    "data.info()"
   ]
  },
  {
   "cell_type": "markdown",
   "metadata": {},
   "source": [
    "If you plan to use XGBoost on a dataset which has **categorical** features you may want to consider applying some **encoding** (like one-hot encoding) to such features before training the model. Also, if you have some missing values such as `NA` in the dataset you may or may not do a separate treatment for them, because **XGBoost is capable of handling missing values internally**. You can check out this [link](https://github.com/dmlc/xgboost/issues/21) if you wish to know more on this."
   ]
  },
  {
   "cell_type": "code",
   "execution_count": null,
   "metadata": {},
   "outputs": [],
   "source": [
    "from sklearn.metrics import mean_squared_error"
   ]
  },
  {
   "cell_type": "code",
   "execution_count": null,
   "metadata": {},
   "outputs": [],
   "source": [
    "X, y = data.iloc[:,:-1], data.iloc[:,-1]\n",
    "data_dmatrix = xgb.DMatrix(data=X,label=y)\n",
    "X_train, X_test, y_train, y_test = train_test_split(X, y, test_size=0.2, random_state=123)"
   ]
  },
  {
   "cell_type": "code",
   "execution_count": null,
   "metadata": {},
   "outputs": [],
   "source": [
    "# XGBClassifier() for classification\n",
    "xg_reg = xgb.XGBRegressor(objective ='reg:linear', colsample_bytree = 0.3, learning_rate = 0.1, \\\n",
    "                          max_depth = 5, alpha = 10, n_estimators = 10)\n",
    "xg_reg.fit(X_train,y_train)\n",
    "preds = xg_reg.predict(X_test)\n",
    "\n",
    "rmse = np.sqrt(mean_squared_error(y_test, preds))\n",
    "print(\"RMSE: %f\" % (rmse))"
   ]
  },
  {
   "cell_type": "markdown",
   "metadata": {},
   "source": [
    "## Data Preparation"
   ]
  },
  {
   "cell_type": "code",
   "execution_count": 1,
   "metadata": {},
   "outputs": [],
   "source": [
    "import pandas as pd\n",
    "import matplotlib.pyplot as plt\n",
    "import xgboost as xgb\n",
    "import numpy as np\n",
    "from sklearn.model_selection import train_test_split\n",
    "from sklearn import metrics\n",
    "\n",
    "%matplotlib inline"
   ]
  },
  {
   "cell_type": "code",
   "execution_count": 2,
   "metadata": {
    "scrolled": false
   },
   "outputs": [
    {
     "name": "stdout",
     "output_type": "stream",
     "text": [
      "shape of the data: (997, 12)\n",
      "\n",
      "y unique and count: \n",
      "Bob       517\n",
      "Atsuto    296\n",
      "Jörg      184\n",
      "Name: y, dtype: int64\n",
      "\n",
      "\n",
      "x5 unique and count: \n",
      "False    685\n",
      "True     312\n",
      "Name: x5, dtype: int64\n",
      "\n",
      "\n",
      "x6 unique and count: \n",
      "F     617\n",
      "A     228\n",
      "Fx     35\n",
      "C      33\n",
      "E      29\n",
      "B      28\n",
      "D      27\n",
      "Name: x6, dtype: int64\n"
     ]
    }
   ],
   "source": [
    "data = pd.read_csv('TrainOnMe.csv')\n",
    "\n",
    "unique_y = ['Atsuto','Bob','Jörg']\n",
    "data = data[data['y'].isin(unique_y)]\n",
    "unique_x5 = ['True', 'False']\n",
    "data = data[data['x5'].isin(unique_x5)]\n",
    "unique_x6 = ['F', 'A', 'Fx', 'C', 'E', 'B', 'D']\n",
    "data = data[data['x6'].isin(unique_x6)]\n",
    "data[['x1','x2','x3','x4','x7','x8','x9','x10']] = data[['x1','x2','x3','x4','x7','x8','x9','x10']].apply(pd.to_numeric)\n",
    "\n",
    "print(f\"shape of the data: {data.shape}\\n\")\n",
    "print(\"y unique and count: \")\n",
    "print(data.y.value_counts())\n",
    "print('\\n')\n",
    "print(\"x5 unique and count: \")\n",
    "print(data.x5.value_counts())\n",
    "print('\\n')\n",
    "print(\"x6 unique and count: \")\n",
    "print(data.x6.value_counts())"
   ]
  },
  {
   "cell_type": "code",
   "execution_count": null,
   "metadata": {
    "scrolled": true
   },
   "outputs": [],
   "source": [
    "data.info()"
   ]
  },
  {
   "cell_type": "code",
   "execution_count": 3,
   "metadata": {},
   "outputs": [],
   "source": [
    "# remove outliers\n",
    "data = data.drop(data[(data.x7 < -100) | (data.x7 > 100)].index)\n",
    "data = data.drop(data[(data.x8 < -100) | (data.x8 > 100)].index)"
   ]
  },
  {
   "cell_type": "code",
   "execution_count": 4,
   "metadata": {
    "scrolled": true
   },
   "outputs": [
    {
     "data": {
      "image/png": "[encoded data removed]",
      "text/plain": [
       "<Figure size 432x288 with 1 Axes>"
      ]
     },
     "metadata": {
      "needs_background": "light"
     },
     "output_type": "display_data"
    }
   ],
   "source": [
    "pts = (data.loc[:,['x8']]).to_numpy().flatten()\n",
    "plt.plot(pts,'.')\n",
    "plt.tick_params(\n",
    "    axis='x',          # changes apply to the x-axis\n",
    "    which='both',      # both major and minor ticks are affected\n",
    "    bottom=False,      # ticks along the bottom edge are off\n",
    "    top=False,         # ticks along the top edge are off\n",
    "    labelbottom=False)\n",
    "plt.show()"
   ]
  },
  {
   "cell_type": "code",
   "execution_count": null,
   "metadata": {},
   "outputs": [],
   "source": [
    "data.head()"
   ]
  },
  {
   "cell_type": "code",
   "execution_count": 5,
   "metadata": {},
   "outputs": [],
   "source": [
    "y, X = data.iloc[:,1], data.iloc[:,2:]\n",
    "\n",
    "# map y from object to int\n",
    "y_dict = {'Atsuto': 0, 'Bob': 1, 'Jörg':2}\n",
    "y = y.replace(y_dict)\n",
    "\n",
    "# one-hot encoding\n",
    "X = pd.get_dummies(X)"
   ]
  },
  {
   "cell_type": "code",
   "execution_count": null,
   "metadata": {},
   "outputs": [],
   "source": [
    "y.head()"
   ]
  },
  {
   "cell_type": "code",
   "execution_count": null,
   "metadata": {
    "scrolled": true
   },
   "outputs": [],
   "source": [
    "print(X.isnull().values.any())\n",
    "print(f\"shape of the data: {X.shape}\\n\")\n",
    "X.head()"
   ]
  },
  {
   "cell_type": "code",
   "execution_count": 6,
   "metadata": {},
   "outputs": [],
   "source": [
    "data_dmatrix = xgb.DMatrix(data=X,label=y)\n",
    "X_train, X_test, y_train, y_test = train_test_split(X, y, test_size=0.25)"
   ]
  },
  {
   "cell_type": "code",
   "execution_count": 8,
   "metadata": {},
   "outputs": [],
   "source": [
    "# XGBClassifier() for classification\n",
    "xg_clf = xgb.XGBClassifier()\n",
    "xg_clf.fit(X_train,y_train)\n",
    "preds = xg_clf.predict(X_test)"
   ]
  },
  {
   "cell_type": "code",
   "execution_count": 9,
   "metadata": {
    "scrolled": true
   },
   "outputs": [
    {
     "name": "stdout",
     "output_type": "stream",
     "text": [
      "Accuracy: 0.8514056224899599\n"
     ]
    }
   ],
   "source": [
    "print(\"Accuracy:\",metrics.accuracy_score(y_test, preds))"
   ]
  },
  {
   "cell_type": "code",
   "execution_count": 10,
   "metadata": {},
   "outputs": [
    {
     "data": {
      "text/html": [
       "<div>\n",
       "<style scoped>\n",
       "    .dataframe tbody tr th:only-of-type {\n",
       "        vertical-align: middle;\n",
       "    }\n",
       "\n",
       "    .dataframe tbody tr th {\n",
       "        vertical-align: top;\n",
       "    }\n",
       "\n",
       "    .dataframe thead th {\n",
       "        text-align: right;\n",
       "    }\n",
       "</style>\n",
       "<table border=\"1\" class=\"dataframe\">\n",
       "  <thead>\n",
       "    <tr style=\"text-align: right;\">\n",
       "      <th></th>\n",
       "      <th>Unnamed: 0</th>\n",
       "      <th>x1</th>\n",
       "      <th>x2</th>\n",
       "      <th>x3</th>\n",
       "      <th>x4</th>\n",
       "      <th>x5</th>\n",
       "      <th>x6</th>\n",
       "      <th>x7</th>\n",
       "      <th>x8</th>\n",
       "      <th>x9</th>\n",
       "      <th>x10</th>\n",
       "    </tr>\n",
       "  </thead>\n",
       "  <tbody>\n",
       "    <tr>\n",
       "      <th>0</th>\n",
       "      <td>1000</td>\n",
       "      <td>2.11820</td>\n",
       "      <td>0.30064</td>\n",
       "      <td>0.11441</td>\n",
       "      <td>0.08570</td>\n",
       "      <td>True</td>\n",
       "      <td>E</td>\n",
       "      <td>-0.23694</td>\n",
       "      <td>1.34755</td>\n",
       "      <td>4.41336</td>\n",
       "      <td>0.92271</td>\n",
       "    </tr>\n",
       "    <tr>\n",
       "      <th>1</th>\n",
       "      <td>1001</td>\n",
       "      <td>0.33456</td>\n",
       "      <td>-0.08190</td>\n",
       "      <td>-0.70144</td>\n",
       "      <td>0.69276</td>\n",
       "      <td>False</td>\n",
       "      <td>F</td>\n",
       "      <td>-0.97349</td>\n",
       "      <td>-1.46992</td>\n",
       "      <td>-3.30673</td>\n",
       "      <td>0.22554</td>\n",
       "    </tr>\n",
       "    <tr>\n",
       "      <th>2</th>\n",
       "      <td>1002</td>\n",
       "      <td>1.52200</td>\n",
       "      <td>-0.50104</td>\n",
       "      <td>-1.34160</td>\n",
       "      <td>1.28651</td>\n",
       "      <td>False</td>\n",
       "      <td>F</td>\n",
       "      <td>1.59231</td>\n",
       "      <td>1.96883</td>\n",
       "      <td>-1.36040</td>\n",
       "      <td>2.68363</td>\n",
       "    </tr>\n",
       "    <tr>\n",
       "      <th>3</th>\n",
       "      <td>1003</td>\n",
       "      <td>1.27021</td>\n",
       "      <td>1.24996</td>\n",
       "      <td>-0.14228</td>\n",
       "      <td>0.15172</td>\n",
       "      <td>True</td>\n",
       "      <td>A</td>\n",
       "      <td>-0.28572</td>\n",
       "      <td>-0.85520</td>\n",
       "      <td>-3.86445</td>\n",
       "      <td>0.86683</td>\n",
       "    </tr>\n",
       "    <tr>\n",
       "      <th>4</th>\n",
       "      <td>1004</td>\n",
       "      <td>-1.91738</td>\n",
       "      <td>0.83558</td>\n",
       "      <td>-0.88311</td>\n",
       "      <td>0.95150</td>\n",
       "      <td>False</td>\n",
       "      <td>A</td>\n",
       "      <td>0.74576</td>\n",
       "      <td>2.59335</td>\n",
       "      <td>-2.41387</td>\n",
       "      <td>1.01367</td>\n",
       "    </tr>\n",
       "  </tbody>\n",
       "</table>\n",
       "</div>"
      ],
      "text/plain": [
       "   Unnamed: 0       x1       x2       x3       x4     x5 x6       x7       x8  \\\n",
       "0        1000  2.11820  0.30064  0.11441  0.08570   True  E -0.23694  1.34755   \n",
       "1        1001  0.33456 -0.08190 -0.70144  0.69276  False  F -0.97349 -1.46992   \n",
       "2        1002  1.52200 -0.50104 -1.34160  1.28651  False  F  1.59231  1.96883   \n",
       "3        1003  1.27021  1.24996 -0.14228  0.15172   True  A -0.28572 -0.85520   \n",
       "4        1004 -1.91738  0.83558 -0.88311  0.95150  False  A  0.74576  2.59335   \n",
       "\n",
       "        x9      x10  \n",
       "0  4.41336  0.92271  \n",
       "1 -3.30673  0.22554  \n",
       "2 -1.36040  2.68363  \n",
       "3 -3.86445  0.86683  \n",
       "4 -2.41387  1.01367  "
      ]
     },
     "execution_count": 10,
     "metadata": {},
     "output_type": "execute_result"
    }
   ],
   "source": [
    "test_data = pd.read_csv('EvaluateOnMe.csv')\n",
    "test_data.head()"
   ]
  }
 ],
 "metadata": {
  "kernelspec": {
   "display_name": "Python 3",
   "language": "python",
   "name": "python3"
  },
  "language_info": {
   "codemirror_mode": {
    "name": "ipython",
    "version": 3
   },
   "file_extension": ".py",
   "mimetype": "text/x-python",
   "name": "python",
   "nbconvert_exporter": "python",
   "pygments_lexer": "ipython3",
   "version": "3.6.10"
  },
  "toc": {
   "base_numbering": 1,
   "nav_menu": {},
   "number_sections": true,
   "sideBar": true,
   "skip_h1_title": false,
   "title_cell": "Table of Contents",
   "title_sidebar": "Contents",
   "toc_cell": false,
   "toc_position": {},
   "toc_section_display": true,
   "toc_window_display": false
  }
 },
 "nbformat": 4,
 "nbformat_minor": 4
}

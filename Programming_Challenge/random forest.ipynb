{
 "cells": [
  {
   "cell_type": "markdown",
   "metadata": {},
   "source": [
    "## Random Forest\n",
    "\n",
    "References\n",
    "- https://towardsdatascience.com/random-forest-in-python-24d0893d51c0\n",
    "- https://www.datacamp.com/community/tutorials/random-forests-classifier-python\n",
    "\n",
    "TODO\n",
    "- test on the provided test data\n",
    "- XGBoost"
   ]
  },
  {
   "cell_type": "code",
   "execution_count": 1,
   "metadata": {
    "scrolled": true
   },
   "outputs": [
    {
     "name": "stdout",
     "output_type": "stream",
     "text": [
      "Bob       519\n",
      "Atsuto    296\n",
      "Jörg      184\n",
      "Name: y, dtype: int64\n"
     ]
    },
    {
     "data": {
      "text/html": [
       "<div>\n",
       "<style scoped>\n",
       "    .dataframe tbody tr th:only-of-type {\n",
       "        vertical-align: middle;\n",
       "    }\n",
       "\n",
       "    .dataframe tbody tr th {\n",
       "        vertical-align: top;\n",
       "    }\n",
       "\n",
       "    .dataframe thead th {\n",
       "        text-align: right;\n",
       "    }\n",
       "</style>\n",
       "<table border=\"1\" class=\"dataframe\">\n",
       "  <thead>\n",
       "    <tr style=\"text-align: right;\">\n",
       "      <th></th>\n",
       "      <th>y</th>\n",
       "      <th>x1</th>\n",
       "      <th>x2</th>\n",
       "      <th>x3</th>\n",
       "      <th>x4</th>\n",
       "      <th>x5</th>\n",
       "      <th>x6</th>\n",
       "      <th>x7</th>\n",
       "      <th>x8</th>\n",
       "      <th>x9</th>\n",
       "      <th>x10</th>\n",
       "    </tr>\n",
       "  </thead>\n",
       "  <tbody>\n",
       "    <tr>\n",
       "      <th>0</th>\n",
       "      <td>Bob</td>\n",
       "      <td>-0.78103</td>\n",
       "      <td>-0.63375</td>\n",
       "      <td>-0.03665</td>\n",
       "      <td>0.27517</td>\n",
       "      <td>False</td>\n",
       "      <td>F</td>\n",
       "      <td>-1.85755</td>\n",
       "      <td>0.22668</td>\n",
       "      <td>-2.35130</td>\n",
       "      <td>1.42092</td>\n",
       "    </tr>\n",
       "    <tr>\n",
       "      <th>1</th>\n",
       "      <td>Bob</td>\n",
       "      <td>0.42649</td>\n",
       "      <td>-0.50019</td>\n",
       "      <td>0.00696</td>\n",
       "      <td>0.11817</td>\n",
       "      <td>False</td>\n",
       "      <td>F</td>\n",
       "      <td>-1.73761</td>\n",
       "      <td>-1.61015</td>\n",
       "      <td>-5.12219</td>\n",
       "      <td>1.87723</td>\n",
       "    </tr>\n",
       "    <tr>\n",
       "      <th>2</th>\n",
       "      <td>Atsuto</td>\n",
       "      <td>1.86817</td>\n",
       "      <td>-0.45565</td>\n",
       "      <td>0.07658</td>\n",
       "      <td>0.09662</td>\n",
       "      <td>False</td>\n",
       "      <td>F</td>\n",
       "      <td>1.02798</td>\n",
       "      <td>-0.92326</td>\n",
       "      <td>-1.67111</td>\n",
       "      <td>2.07828</td>\n",
       "    </tr>\n",
       "    <tr>\n",
       "      <th>3</th>\n",
       "      <td>Atsuto</td>\n",
       "      <td>-1.80073</td>\n",
       "      <td>0.08535</td>\n",
       "      <td>-0.02467</td>\n",
       "      <td>0.14032</td>\n",
       "      <td>False</td>\n",
       "      <td>F</td>\n",
       "      <td>2.02793</td>\n",
       "      <td>-0.46318</td>\n",
       "      <td>2.41329</td>\n",
       "      <td>-0.62963</td>\n",
       "    </tr>\n",
       "    <tr>\n",
       "      <th>4</th>\n",
       "      <td>Bob</td>\n",
       "      <td>1.56943</td>\n",
       "      <td>-1.25860</td>\n",
       "      <td>-0.02092</td>\n",
       "      <td>0.22267</td>\n",
       "      <td>False</td>\n",
       "      <td>F</td>\n",
       "      <td>-0.43304</td>\n",
       "      <td>-1.99881</td>\n",
       "      <td>-1.58241</td>\n",
       "      <td>2.28423</td>\n",
       "    </tr>\n",
       "  </tbody>\n",
       "</table>\n",
       "</div>"
      ],
      "text/plain": [
       "        y       x1       x2       x3       x4     x5 x6       x7       x8  \\\n",
       "0     Bob -0.78103 -0.63375 -0.03665  0.27517  False  F -1.85755  0.22668   \n",
       "1     Bob  0.42649 -0.50019  0.00696  0.11817  False  F -1.73761 -1.61015   \n",
       "2  Atsuto  1.86817 -0.45565  0.07658  0.09662  False  F  1.02798 -0.92326   \n",
       "3  Atsuto -1.80073  0.08535 -0.02467  0.14032  False  F  2.02793 -0.46318   \n",
       "4     Bob  1.56943 -1.25860 -0.02092  0.22267  False  F -0.43304 -1.99881   \n",
       "\n",
       "        x9      x10  \n",
       "0 -2.35130  1.42092  \n",
       "1 -5.12219  1.87723  \n",
       "2 -1.67111  2.07828  \n",
       "3  2.41329 -0.62963  \n",
       "4 -1.58241  2.28423  "
      ]
     },
     "execution_count": 1,
     "metadata": {},
     "output_type": "execute_result"
    }
   ],
   "source": [
    "import pandas as pd\n",
    "\n",
    "data = pd.read_csv('TrainOnMe.csv')\n",
    "\n",
    "# remove noisy entries\n",
    "data = data.drop(data[(data.y != 'Atsuto') &\n",
    "                      (data.y != 'Bob') &\n",
    "                      (data.y != 'Jörg')].index)\n",
    "data = data.drop(data[data.id == '880'].index)\n",
    "print(data.y.value_counts())\n",
    "\n",
    "data = data.drop(columns='id')\n",
    "data[['x1','x2','x3','x4','x7','x8','x9','x10']] = data[['x1','x2','x3','x4','x7','x8','x9','x10']].apply(pd.to_numeric)\n",
    "data.head(5)"
   ]
  },
  {
   "cell_type": "code",
   "execution_count": null,
   "metadata": {},
   "outputs": [],
   "source": [
    "print(data.dtypes)"
   ]
  },
  {
   "cell_type": "code",
   "execution_count": 2,
   "metadata": {},
   "outputs": [],
   "source": [
    "#TODO: remove outliers\n",
    "data = data.drop(data[(data.x7 < -100) | (data.x7 > 100)].index)\n",
    "data = data.drop(data[(data.x8 < -100) | (data.x8 > 100)].index)"
   ]
  },
  {
   "cell_type": "code",
   "execution_count": 3,
   "metadata": {},
   "outputs": [],
   "source": [
    "import matplotlib.pyplot as plt\n",
    "%matplotlib inline"
   ]
  },
  {
   "cell_type": "code",
   "execution_count": 5,
   "metadata": {},
   "outputs": [
    {
     "data": {
      "image/png": "[encoded data removed]",
      "text/plain": [
       "<Figure size 432x288 with 1 Axes>"
      ]
     },
     "metadata": {
      "needs_background": "light"
     },
     "output_type": "display_data"
    }
   ],
   "source": [
    "y = (data.loc[:,['x8']]).to_numpy().flatten()\n",
    "plt.plot(y,'.')\n",
    "plt.tick_params(\n",
    "    axis='x',          # changes apply to the x-axis\n",
    "    which='both',      # both major and minor ticks are affected\n",
    "    bottom=False,      # ticks along the bottom edge are off\n",
    "    top=False,         # ticks along the top edge are off\n",
    "    labelbottom=False)\n",
    "plt.show()"
   ]
  },
  {
   "cell_type": "code",
   "execution_count": null,
   "metadata": {},
   "outputs": [],
   "source": [
    "print(f\"shape of the data: {data.shape}\\n\")\n",
    "print(\"x5 unique and count: \")\n",
    "print(data.x5.value_counts())\n",
    "print('\\n')\n",
    "print(\"x6 unique and count: \")\n",
    "print(data.x6.value_counts())"
   ]
  },
  {
   "cell_type": "code",
   "execution_count": 6,
   "metadata": {
    "scrolled": true
   },
   "outputs": [
    {
     "name": "stdout",
     "output_type": "stream",
     "text": [
      "shape of the data: (995, 11)\n",
      "\n",
      "x5 unique and count: \n",
      "False    683\n",
      "True     312\n",
      "Name: x5, dtype: int64\n",
      "\n",
      "\n",
      "x6 unique and count: \n",
      "F     615\n",
      "A     228\n",
      "Fx     35\n",
      "C      33\n",
      "E      29\n",
      "B      28\n",
      "D      27\n",
      "Name: x6, dtype: int64\n"
     ]
    }
   ],
   "source": [
    "unique_x5 = ['True', 'False']\n",
    "data = data[data['x5'].isin(unique_x5)]\n",
    "unique_x6 = ['F', 'A', 'Fx', 'C', 'E', 'B', 'D']\n",
    "\n",
    "print(f\"shape of the data: {data.shape}\\n\")\n",
    "print(\"x5 unique and count: \")\n",
    "print(data.x5.value_counts())\n",
    "print('\\n')\n",
    "print(\"x6 unique and count: \")\n",
    "print(data.x6.value_counts())"
   ]
  },
  {
   "cell_type": "code",
   "execution_count": 33,
   "metadata": {
    "scrolled": true
   },
   "outputs": [
    {
     "name": "stdout",
     "output_type": "stream",
     "text": [
      "0       1\n",
      "1       1\n",
      "2       0\n",
      "3       0\n",
      "4       1\n",
      "       ..\n",
      "996     0\n",
      "997     1\n",
      "998     2\n",
      "999     0\n",
      "1000    2\n",
      "Name: y, Length: 995, dtype: int64\n",
      "False\n"
     ]
    }
   ],
   "source": [
    "label_dict = {'Atsuto': 0, 'Bob': 1, 'Jörg':2}\n",
    "labels = data['y'].replace(label_dict)\n",
    "print(labels)\n",
    "print(labels.isnull().values.any())"
   ]
  },
  {
   "cell_type": "code",
   "execution_count": 37,
   "metadata": {},
   "outputs": [
    {
     "name": "stdout",
     "output_type": "stream",
     "text": [
      "False\n",
      "shape of the data: (995, 17)\n",
      "\n"
     ]
    },
    {
     "data": {
      "text/html": [
       "<div>\n",
       "<style scoped>\n",
       "    .dataframe tbody tr th:only-of-type {\n",
       "        vertical-align: middle;\n",
       "    }\n",
       "\n",
       "    .dataframe tbody tr th {\n",
       "        vertical-align: top;\n",
       "    }\n",
       "\n",
       "    .dataframe thead th {\n",
       "        text-align: right;\n",
       "    }\n",
       "</style>\n",
       "<table border=\"1\" class=\"dataframe\">\n",
       "  <thead>\n",
       "    <tr style=\"text-align: right;\">\n",
       "      <th></th>\n",
       "      <th>x1</th>\n",
       "      <th>x2</th>\n",
       "      <th>x3</th>\n",
       "      <th>x4</th>\n",
       "      <th>x7</th>\n",
       "      <th>x8</th>\n",
       "      <th>x9</th>\n",
       "      <th>x10</th>\n",
       "      <th>x5_False</th>\n",
       "      <th>x5_True</th>\n",
       "      <th>x6_A</th>\n",
       "      <th>x6_B</th>\n",
       "      <th>x6_C</th>\n",
       "      <th>x6_D</th>\n",
       "      <th>x6_E</th>\n",
       "      <th>x6_F</th>\n",
       "      <th>x6_Fx</th>\n",
       "    </tr>\n",
       "  </thead>\n",
       "  <tbody>\n",
       "    <tr>\n",
       "      <th>0</th>\n",
       "      <td>-0.78103</td>\n",
       "      <td>-0.63375</td>\n",
       "      <td>-0.03665</td>\n",
       "      <td>0.27517</td>\n",
       "      <td>-1.85755</td>\n",
       "      <td>0.22668</td>\n",
       "      <td>-2.35130</td>\n",
       "      <td>1.42092</td>\n",
       "      <td>1</td>\n",
       "      <td>0</td>\n",
       "      <td>0</td>\n",
       "      <td>0</td>\n",
       "      <td>0</td>\n",
       "      <td>0</td>\n",
       "      <td>0</td>\n",
       "      <td>1</td>\n",
       "      <td>0</td>\n",
       "    </tr>\n",
       "    <tr>\n",
       "      <th>1</th>\n",
       "      <td>0.42649</td>\n",
       "      <td>-0.50019</td>\n",
       "      <td>0.00696</td>\n",
       "      <td>0.11817</td>\n",
       "      <td>-1.73761</td>\n",
       "      <td>-1.61015</td>\n",
       "      <td>-5.12219</td>\n",
       "      <td>1.87723</td>\n",
       "      <td>1</td>\n",
       "      <td>0</td>\n",
       "      <td>0</td>\n",
       "      <td>0</td>\n",
       "      <td>0</td>\n",
       "      <td>0</td>\n",
       "      <td>0</td>\n",
       "      <td>1</td>\n",
       "      <td>0</td>\n",
       "    </tr>\n",
       "    <tr>\n",
       "      <th>2</th>\n",
       "      <td>1.86817</td>\n",
       "      <td>-0.45565</td>\n",
       "      <td>0.07658</td>\n",
       "      <td>0.09662</td>\n",
       "      <td>1.02798</td>\n",
       "      <td>-0.92326</td>\n",
       "      <td>-1.67111</td>\n",
       "      <td>2.07828</td>\n",
       "      <td>1</td>\n",
       "      <td>0</td>\n",
       "      <td>0</td>\n",
       "      <td>0</td>\n",
       "      <td>0</td>\n",
       "      <td>0</td>\n",
       "      <td>0</td>\n",
       "      <td>1</td>\n",
       "      <td>0</td>\n",
       "    </tr>\n",
       "    <tr>\n",
       "      <th>3</th>\n",
       "      <td>-1.80073</td>\n",
       "      <td>0.08535</td>\n",
       "      <td>-0.02467</td>\n",
       "      <td>0.14032</td>\n",
       "      <td>2.02793</td>\n",
       "      <td>-0.46318</td>\n",
       "      <td>2.41329</td>\n",
       "      <td>-0.62963</td>\n",
       "      <td>1</td>\n",
       "      <td>0</td>\n",
       "      <td>0</td>\n",
       "      <td>0</td>\n",
       "      <td>0</td>\n",
       "      <td>0</td>\n",
       "      <td>0</td>\n",
       "      <td>1</td>\n",
       "      <td>0</td>\n",
       "    </tr>\n",
       "    <tr>\n",
       "      <th>4</th>\n",
       "      <td>1.56943</td>\n",
       "      <td>-1.25860</td>\n",
       "      <td>-0.02092</td>\n",
       "      <td>0.22267</td>\n",
       "      <td>-0.43304</td>\n",
       "      <td>-1.99881</td>\n",
       "      <td>-1.58241</td>\n",
       "      <td>2.28423</td>\n",
       "      <td>1</td>\n",
       "      <td>0</td>\n",
       "      <td>0</td>\n",
       "      <td>0</td>\n",
       "      <td>0</td>\n",
       "      <td>0</td>\n",
       "      <td>0</td>\n",
       "      <td>1</td>\n",
       "      <td>0</td>\n",
       "    </tr>\n",
       "  </tbody>\n",
       "</table>\n",
       "</div>"
      ],
      "text/plain": [
       "        x1       x2       x3       x4       x7       x8       x9      x10  \\\n",
       "0 -0.78103 -0.63375 -0.03665  0.27517 -1.85755  0.22668 -2.35130  1.42092   \n",
       "1  0.42649 -0.50019  0.00696  0.11817 -1.73761 -1.61015 -5.12219  1.87723   \n",
       "2  1.86817 -0.45565  0.07658  0.09662  1.02798 -0.92326 -1.67111  2.07828   \n",
       "3 -1.80073  0.08535 -0.02467  0.14032  2.02793 -0.46318  2.41329 -0.62963   \n",
       "4  1.56943 -1.25860 -0.02092  0.22267 -0.43304 -1.99881 -1.58241  2.28423   \n",
       "\n",
       "   x5_False  x5_True  x6_A  x6_B  x6_C  x6_D  x6_E  x6_F  x6_Fx  \n",
       "0         1        0     0     0     0     0     0     1      0  \n",
       "1         1        0     0     0     0     0     0     1      0  \n",
       "2         1        0     0     0     0     0     0     1      0  \n",
       "3         1        0     0     0     0     0     0     1      0  \n",
       "4         1        0     0     0     0     0     0     1      0  "
      ]
     },
     "execution_count": 37,
     "metadata": {},
     "output_type": "execute_result"
    }
   ],
   "source": [
    "# one-hot encoding\n",
    "features = pd.get_dummies(data.drop(columns='y'))\n",
    "features = features.fillna(0)\n",
    "print(features.isnull().values.any())\n",
    "\n",
    "print(f\"shape of the data: {features.shape}\\n\")\n",
    "features.head(5)"
   ]
  },
  {
   "cell_type": "code",
   "execution_count": 38,
   "metadata": {},
   "outputs": [
    {
     "name": "stdout",
     "output_type": "stream",
     "text": [
      "training features shape: (995, 17)\n",
      "# training labels: (995,)\n"
     ]
    }
   ],
   "source": [
    "import numpy as np\n",
    "\n",
    "labels = np.array(labels)\n",
    "features_names = list(features.columns)\n",
    "features = np.array(features)\n",
    "\n",
    "print(f\"training features shape: {features.shape}\")\n",
    "print(f\"# training labels: {labels.shape}\")"
   ]
  },
  {
   "cell_type": "code",
   "execution_count": 39,
   "metadata": {},
   "outputs": [],
   "source": [
    "from sklearn.model_selection import train_test_split\n",
    "from sklearn.ensemble import RandomForestClassifier\n",
    "\n",
    "x_train, x_test, y_train, y_test = train_test_split(features, labels, test_size = 0.25)"
   ]
  },
  {
   "cell_type": "code",
   "execution_count": 41,
   "metadata": {},
   "outputs": [
    {
     "name": "stdout",
     "output_type": "stream",
     "text": [
      "(746, 17)\n"
     ]
    },
    {
     "data": {
      "text/plain": [
       "(array([], dtype=int64), array([], dtype=int64))"
      ]
     },
     "execution_count": 41,
     "metadata": {},
     "output_type": "execute_result"
    }
   ],
   "source": [
    "print(x_train.shape)\n",
    "\n",
    "np.where(np.isnan(x_train))"
   ]
  },
  {
   "cell_type": "code",
   "execution_count": 42,
   "metadata": {},
   "outputs": [],
   "source": [
    "clf = RandomForestClassifier(n_estimators=100)\n",
    "clf.fit(x_train,y_train)\n",
    "y_pred = clf.predict(x_test)"
   ]
  },
  {
   "cell_type": "code",
   "execution_count": 43,
   "metadata": {},
   "outputs": [
    {
     "name": "stdout",
     "output_type": "stream",
     "text": [
      "Accuracy: 0.8152610441767069\n"
     ]
    }
   ],
   "source": [
    "from sklearn import metrics\n",
    "print(\"Accuracy:\",metrics.accuracy_score(y_test, y_pred))"
   ]
  }
 ],
 "metadata": {
  "kernelspec": {
   "display_name": "Python 3",
   "language": "python",
   "name": "python3"
  },
  "language_info": {
   "codemirror_mode": {
    "name": "ipython",
    "version": 3
   },
   "file_extension": ".py",
   "mimetype": "text/x-python",
   "name": "python",
   "nbconvert_exporter": "python",
   "pygments_lexer": "ipython3",
   "version": "3.6.10"
  },
  "toc": {
   "base_numbering": 1,
   "nav_menu": {},
   "number_sections": true,
   "sideBar": true,
   "skip_h1_title": false,
   "title_cell": "Table of Contents",
   "title_sidebar": "Contents",
   "toc_cell": false,
   "toc_position": {},
   "toc_section_display": true,
   "toc_window_display": false
  }
 },
 "nbformat": 4,
 "nbformat_minor": 4
}
